{
 "cells": [
  {
   "cell_type": "code",
   "execution_count": 3,
   "metadata": {},
   "outputs": [],
   "source": [
    "# Importing all necessary libraries\n",
    "import cv2\n",
    "import os"
   ]
  },
  {
   "cell_type": "code",
   "execution_count": 21,
   "metadata": {},
   "outputs": [],
   "source": [
    "type_ = 'Break' #Ingame or Break\n",
    "training_validation = 'Validation'\n",
    "\n",
    "# Read the video from specified path\n",
    "\n",
    "path = \"./data/\" + type_.lower()\n",
    "\n",
    "if training_validation != \"train\":\n",
    "    path += \"/\" + training_validation.lower()\n",
    "    filename = type_.capitalize() + \"_\" + training_validation.capitalize() + '.mp4'\n",
    "else:\n",
    "    filename = type_.capitalize() + '.mp4'\n",
    "\n",
    "\n",
    "cam = cv2.VideoCapture(path + \"/\" + filename)\n",
    "  \n",
    "# frame\n",
    "currentframe = 0\n",
    "  \n",
    "while(True):\n",
    "      \n",
    "    # reading from frame\n",
    "    ret,frame = cam.read()\n",
    "  \n",
    "    if ret:\n",
    "        # if video is still left continue creating images\n",
    "        if type_.lower() == \"ingame\":\n",
    "            class_string = \"0\"\n",
    "        else:\n",
    "            class_string = \"1\"\n",
    "        if training_validation.lower() == \"train\":\n",
    "            target_folder = \"train_data\"\n",
    "        else:\n",
    "            target_folder = \"validation_data\"\n",
    "            \n",
    "        name = './data/'+target_folder+'/'+class_string+'/' + filename.replace('.mp4', '') + '_' + str(currentframe) + '.jpg'\n",
    "        \n",
    "        # writing the extracted images\n",
    "        cv2.imwrite(name, frame)\n",
    "        \n",
    "        currentframe += 1\n",
    "    else:\n",
    "        break\n",
    "  \n",
    "# Release all space and windows once done\n",
    "cam.release()\n",
    "cv2.destroyAllWindows()"
   ]
  },
  {
   "cell_type": "code",
   "execution_count": null,
   "metadata": {},
   "outputs": [],
   "source": []
  }
 ],
 "metadata": {
  "kernelspec": {
   "display_name": "hauptseminar_310",
   "language": "python",
   "name": "python3"
  },
  "language_info": {
   "codemirror_mode": {
    "name": "ipython",
    "version": 3
   },
   "file_extension": ".py",
   "mimetype": "text/x-python",
   "name": "python",
   "nbconvert_exporter": "python",
   "pygments_lexer": "ipython3",
   "version": "3.10.9"
  },
  "orig_nbformat": 4
 },
 "nbformat": 4,
 "nbformat_minor": 2
}
