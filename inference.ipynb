{
 "cells": [
  {
   "cell_type": "code",
   "execution_count": 2,
   "metadata": {},
   "outputs": [],
   "source": [
    "from tensorflow import keras\n",
    "from tensorflow.keras.utils import load_img, img_to_array\n",
    "from keras.applications.vgg16 import preprocess_input\n",
    "import matplotlib.pyplot as plt\n",
    "from keras.preprocessing.image import ImageDataGenerator\n",
    "import numpy as np\n",
    "import pandas as pd"
   ]
  },
  {
   "cell_type": "code",
   "execution_count": 46,
   "metadata": {},
   "outputs": [],
   "source": [
    "model = keras.models.load_model('./models/classification_v2')"
   ]
  },
  {
   "cell_type": "code",
   "execution_count": 151,
   "metadata": {},
   "outputs": [
    {
     "name": "stdout",
     "output_type": "stream",
     "text": [
      "Found 434 images belonging to 2 classes.\n",
      "14/14 [==============================] - 12s 850ms/step\n"
     ]
    }
   ],
   "source": [
    "VAL_IMAGES_PATH = \"./data/validation_data/\"\n",
    "height, width = 128, 128\n",
    "\n",
    "test_datagen = ImageDataGenerator(rescale=1.0 / 255)\n",
    "validation_generator = test_datagen.flow_from_directory(\n",
    "    VAL_IMAGES_PATH,\n",
    "    target_size=(height, width),\n",
    "    shuffle=False,\n",
    "    class_mode=\"binary\",\n",
    ")\n",
    "predictions_proba = model.predict(validation_generator).flatten()\n",
    "predictions = np.where(predictions_proba < .5, 0, 1).flatten()\n",
    "y_true = validation_generator.classes.flatten()\n",
    "\n",
    "result_df = pd.DataFrame(\n",
    "    {\n",
    "    'Prediction':predictions,\n",
    "    'Probability':predictions_proba,\n",
    "    'Label':y_true,\n",
    "    'Path':validation_generator.filenames\n",
    "    }\n",
    ")\n"
   ]
  },
  {
   "cell_type": "code",
   "execution_count": 152,
   "metadata": {},
   "outputs": [
    {
     "data": {
      "text/html": [
       "<div>\n",
       "<style scoped>\n",
       "    .dataframe tbody tr th:only-of-type {\n",
       "        vertical-align: middle;\n",
       "    }\n",
       "\n",
       "    .dataframe tbody tr th {\n",
       "        vertical-align: top;\n",
       "    }\n",
       "\n",
       "    .dataframe thead th {\n",
       "        text-align: right;\n",
       "    }\n",
       "</style>\n",
       "<table border=\"1\" class=\"dataframe\">\n",
       "  <thead>\n",
       "    <tr style=\"text-align: right;\">\n",
       "      <th></th>\n",
       "      <th>Prediction</th>\n",
       "      <th>Probability</th>\n",
       "      <th>Label</th>\n",
       "      <th>Path</th>\n",
       "    </tr>\n",
       "  </thead>\n",
       "  <tbody>\n",
       "    <tr>\n",
       "      <th>32</th>\n",
       "      <td>1</td>\n",
       "      <td>0.564628</td>\n",
       "      <td>0</td>\n",
       "      <td>0/Ingame_Validation_127.jpg</td>\n",
       "    </tr>\n",
       "    <tr>\n",
       "      <th>33</th>\n",
       "      <td>1</td>\n",
       "      <td>0.646659</td>\n",
       "      <td>0</td>\n",
       "      <td>0/Ingame_Validation_128.jpg</td>\n",
       "    </tr>\n",
       "    <tr>\n",
       "      <th>34</th>\n",
       "      <td>1</td>\n",
       "      <td>0.641049</td>\n",
       "      <td>0</td>\n",
       "      <td>0/Ingame_Validation_129.jpg</td>\n",
       "    </tr>\n",
       "    <tr>\n",
       "      <th>36</th>\n",
       "      <td>1</td>\n",
       "      <td>0.667307</td>\n",
       "      <td>0</td>\n",
       "      <td>0/Ingame_Validation_130.jpg</td>\n",
       "    </tr>\n",
       "    <tr>\n",
       "      <th>37</th>\n",
       "      <td>1</td>\n",
       "      <td>0.661575</td>\n",
       "      <td>0</td>\n",
       "      <td>0/Ingame_Validation_131.jpg</td>\n",
       "    </tr>\n",
       "    <tr>\n",
       "      <th>...</th>\n",
       "      <td>...</td>\n",
       "      <td>...</td>\n",
       "      <td>...</td>\n",
       "      <td>...</td>\n",
       "    </tr>\n",
       "    <tr>\n",
       "      <th>117</th>\n",
       "      <td>1</td>\n",
       "      <td>0.677864</td>\n",
       "      <td>0</td>\n",
       "      <td>0/Ingame_Validation_203.jpg</td>\n",
       "    </tr>\n",
       "    <tr>\n",
       "      <th>118</th>\n",
       "      <td>1</td>\n",
       "      <td>0.690203</td>\n",
       "      <td>0</td>\n",
       "      <td>0/Ingame_Validation_204.jpg</td>\n",
       "    </tr>\n",
       "    <tr>\n",
       "      <th>119</th>\n",
       "      <td>1</td>\n",
       "      <td>0.686334</td>\n",
       "      <td>0</td>\n",
       "      <td>0/Ingame_Validation_205.jpg</td>\n",
       "    </tr>\n",
       "    <tr>\n",
       "      <th>120</th>\n",
       "      <td>1</td>\n",
       "      <td>0.676458</td>\n",
       "      <td>0</td>\n",
       "      <td>0/Ingame_Validation_206.jpg</td>\n",
       "    </tr>\n",
       "    <tr>\n",
       "      <th>121</th>\n",
       "      <td>1</td>\n",
       "      <td>0.679067</td>\n",
       "      <td>0</td>\n",
       "      <td>0/Ingame_Validation_207.jpg</td>\n",
       "    </tr>\n",
       "  </tbody>\n",
       "</table>\n",
       "<p>81 rows × 4 columns</p>\n",
       "</div>"
      ],
      "text/plain": [
       "     Prediction  Probability  Label                         Path\n",
       "32            1     0.564628      0  0/Ingame_Validation_127.jpg\n",
       "33            1     0.646659      0  0/Ingame_Validation_128.jpg\n",
       "34            1     0.641049      0  0/Ingame_Validation_129.jpg\n",
       "36            1     0.667307      0  0/Ingame_Validation_130.jpg\n",
       "37            1     0.661575      0  0/Ingame_Validation_131.jpg\n",
       "..          ...          ...    ...                          ...\n",
       "117           1     0.677864      0  0/Ingame_Validation_203.jpg\n",
       "118           1     0.690203      0  0/Ingame_Validation_204.jpg\n",
       "119           1     0.686334      0  0/Ingame_Validation_205.jpg\n",
       "120           1     0.676458      0  0/Ingame_Validation_206.jpg\n",
       "121           1     0.679067      0  0/Ingame_Validation_207.jpg\n",
       "\n",
       "[81 rows x 4 columns]"
      ]
     },
     "execution_count": 152,
     "metadata": {},
     "output_type": "execute_result"
    }
   ],
   "source": [
    "result_df[result_df['Prediction'] != result_df['Label']]"
   ]
  },
  {
   "cell_type": "code",
   "execution_count": null,
   "metadata": {},
   "outputs": [],
   "source": []
  },
  {
   "cell_type": "code",
   "execution_count": 95,
   "metadata": {},
   "outputs": [
    {
     "name": "stdout",
     "output_type": "stream",
     "text": [
      "evaluate accuracy: 81.34%\n",
      "evaluate precision: 73.62%\n",
      "evaluate recall: 100.00%\n"
     ]
    }
   ],
   "source": [
    "# Evaluate on Validation data\n",
    "scores = model.evaluate(validation_generator, verbose=0)\n",
    "print(\"%s%s: %.2f%%\" % (\"evaluate \",model.metrics_names[1], scores[1]*100))\n",
    "print(\"%s%s: %.2f%%\" % (\"evaluate \",model.metrics_names[2], scores[2]*100))\n",
    "print(\"%s%s: %.2f%%\" % (\"evaluate \",model.metrics_names[3], scores[3]*100))\n",
    "\n"
   ]
  },
  {
   "cell_type": "code",
   "execution_count": 110,
   "metadata": {},
   "outputs": [
    {
     "name": "stdout",
     "output_type": "stream",
     "text": [
      "14/14 [==============================] - 10s 720ms/step\n"
     ]
    }
   ],
   "source": [
    "validation_generator.reset()\n",
    "predictions_proba=model.predict(validation_generator)\n",
    "predictions = np.where(predictions_proba < .5, 0, 1)"
   ]
  },
  {
   "cell_type": "code",
   "execution_count": 113,
   "metadata": {},
   "outputs": [
    {
     "data": {
      "text/plain": [
       "<sklearn.metrics._plot.confusion_matrix.ConfusionMatrixDisplay at 0x2de36bd60>"
      ]
     },
     "execution_count": 113,
     "metadata": {},
     "output_type": "execute_result"
    },
    {
     "data": {
      "image/png": "[encoded data removed]",
      "text/plain": [
       "<Figure size 640x480 with 2 Axes>"
      ]
     },
     "metadata": {},
     "output_type": "display_data"
    }
   ],
   "source": [
    "from sklearn.metrics import confusion_matrix, ConfusionMatrixDisplay\n",
    "\n",
    "cm = confusion_matrix(y_true, predictions, labels=[0,1])\n",
    "disp = ConfusionMatrixDisplay(confusion_matrix=cm, display_labels=[0,1])\n",
    "disp.plot(cmap='Blues')"
   ]
  },
  {
   "cell_type": "code",
   "execution_count": 140,
   "metadata": {},
   "outputs": [
    {
     "name": "stdout",
     "output_type": "stream",
     "text": [
      "1/1 [==============================] - 0s 19ms/step\n"
     ]
    }
   ],
   "source": [
    "image_path = './data/validation_data/1/Break_Validation_205.jpg'\n",
    "\n",
    "#load the image\n",
    "my_image = load_img(image_path, target_size=(128, 128))\n",
    "#preprocess the image\n",
    "\n",
    "my_image = img_to_array(my_image)\n",
    "my_image /= 255.\n",
    "my_image = my_image.reshape((1, my_image.shape[0], my_image.shape[1], my_image.shape[2]))\n",
    "single_prediction_proba = model.predict(my_image)\n",
    "single_prediction = np.where(single_prediction_proba < .5, 0, 1)\n"
   ]
  },
  {
   "cell_type": "code",
   "execution_count": 141,
   "metadata": {},
   "outputs": [
    {
     "data": {
      "text/plain": [
       "array([[1]])"
      ]
     },
     "execution_count": 141,
     "metadata": {},
     "output_type": "execute_result"
    }
   ],
   "source": [
    "single_prediction"
   ]
  },
  {
   "cell_type": "code",
   "execution_count": 4,
   "metadata": {},
   "outputs": [],
   "source": [
    "image_path = './data/validation_data/1/Break_Validation_205.jpg'\n",
    "\n",
    "my_image = load_img(image_path, target_size=(128, 128))\n"
   ]
  },
  {
   "cell_type": "code",
   "execution_count": 5,
   "metadata": {},
   "outputs": [
    {
     "ename": "TypeError",
     "evalue": "path should be path-like or io.BytesIO, not <class 'PIL.Image.Image'>",
     "output_type": "error",
     "traceback": [
      "\u001b[0;31m---------------------------------------------------------------------------\u001b[0m",
      "\u001b[0;31mTypeError\u001b[0m                                 Traceback (most recent call last)",
      "Cell \u001b[0;32mIn[5], line 1\u001b[0m\n\u001b[0;32m----> 1\u001b[0m my_image \u001b[39m=\u001b[39m load_img(my_image, target_size\u001b[39m=\u001b[39;49m(\u001b[39m128\u001b[39;49m, \u001b[39m128\u001b[39;49m))\n",
      "File \u001b[0;32m~/Projects/Hauptseminar/extra-time-calculation/hauptseminar_310/lib/python3.10/site-packages/keras/utils/image_utils.py:396\u001b[0m, in \u001b[0;36mload_img\u001b[0;34m(path, grayscale, color_mode, target_size, interpolation, keep_aspect_ratio)\u001b[0m\n\u001b[1;32m    394\u001b[0m     img \u001b[39m=\u001b[39m pil_image\u001b[39m.\u001b[39mopen(io\u001b[39m.\u001b[39mBytesIO(f\u001b[39m.\u001b[39mread()))\n\u001b[1;32m    395\u001b[0m \u001b[39melse\u001b[39;00m:\n\u001b[0;32m--> 396\u001b[0m   \u001b[39mraise\u001b[39;00m \u001b[39mTypeError\u001b[39;00m(\u001b[39m'\u001b[39m\u001b[39mpath should be path-like or io.BytesIO\u001b[39m\u001b[39m'\u001b[39m\n\u001b[1;32m    397\u001b[0m                   \u001b[39m'\u001b[39m\u001b[39m, not \u001b[39m\u001b[39m{}\u001b[39;00m\u001b[39m'\u001b[39m\u001b[39m.\u001b[39mformat(\u001b[39mtype\u001b[39m(path)))\n\u001b[1;32m    399\u001b[0m \u001b[39mif\u001b[39;00m color_mode \u001b[39m==\u001b[39m \u001b[39m'\u001b[39m\u001b[39mgrayscale\u001b[39m\u001b[39m'\u001b[39m:\n\u001b[1;32m    400\u001b[0m   \u001b[39m# if image is not already an 8-bit, 16-bit or 32-bit grayscale image\u001b[39;00m\n\u001b[1;32m    401\u001b[0m   \u001b[39m# convert it to an 8-bit grayscale image.\u001b[39;00m\n\u001b[1;32m    402\u001b[0m   \u001b[39mif\u001b[39;00m img\u001b[39m.\u001b[39mmode \u001b[39mnot\u001b[39;00m \u001b[39min\u001b[39;00m (\u001b[39m'\u001b[39m\u001b[39mL\u001b[39m\u001b[39m'\u001b[39m, \u001b[39m'\u001b[39m\u001b[39mI;16\u001b[39m\u001b[39m'\u001b[39m, \u001b[39m'\u001b[39m\u001b[39mI\u001b[39m\u001b[39m'\u001b[39m):\n",
      "\u001b[0;31mTypeError\u001b[0m: path should be path-like or io.BytesIO, not <class 'PIL.Image.Image'>"
     ]
    }
   ],
   "source": []
  },
  {
   "cell_type": "code",
   "execution_count": null,
   "metadata": {},
   "outputs": [],
   "source": []
  }
 ],
 "metadata": {
  "kernelspec": {
   "display_name": "hauptseminar_310",
   "language": "python",
   "name": "python3"
  },
  "language_info": {
   "codemirror_mode": {
    "name": "ipython",
    "version": 3
   },
   "file_extension": ".py",
   "mimetype": "text/x-python",
   "name": "python",
   "nbconvert_exporter": "python",
   "pygments_lexer": "ipython3",
   "version": "3.10.9"
  },
  "orig_nbformat": 4
 },
 "nbformat": 4,
 "nbformat_minor": 2
}
